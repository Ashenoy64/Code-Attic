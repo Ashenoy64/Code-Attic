{
 "cells": [
  {
   "cell_type": "code",
   "execution_count": 1,
   "metadata": {},
   "outputs": [],
   "source": [
    "import requests"
   ]
  },
  {
   "cell_type": "code",
   "execution_count": 2,
   "metadata": {},
   "outputs": [],
   "source": [
    "from bs4 import BeautifulSoup as bs\n",
    "\n",
    "link=\"https://www.flipkart.com/search?q=smartphones&otracker=search&otracker1=search&marketplace=FLIPKART&as-show=on&as=off\""
   ]
  },
  {
   "cell_type": "code",
   "execution_count": 3,
   "metadata": {},
   "outputs": [
    {
     "name": "stdout",
     "output_type": "stream",
     "text": [
      "<Response [200]>\n"
     ]
    }
   ],
   "source": [
    "page=requests.get(link)\n",
    "print(page)"
   ]
  },
  {
   "cell_type": "code",
   "execution_count": 4,
   "metadata": {},
   "outputs": [],
   "source": [
    "soup=bs(page.content,'html.parser')"
   ]
  },
  {
   "cell_type": "code",
   "execution_count": 5,
   "metadata": {},
   "outputs": [],
   "source": [
    "phone_name=soup.find_all(\"div\",class_=\"_4rR01T\")"
   ]
  },
  {
   "cell_type": "code",
   "execution_count": 6,
   "metadata": {},
   "outputs": [
    {
     "data": {
      "text/plain": [
       "[<li class=\"rgWa7D\">4 GB RAM | 64 GB ROM | Expandable Upto 1 TB</li>,\n",
       " <li class=\"rgWa7D\">16.26 cm (6.4 inch) HD+ Display</li>,\n",
       " <li class=\"rgWa7D\">48MP + 8MP + 2MP + 2MP | 13MP Front Camera</li>,\n",
       " <li class=\"rgWa7D\">6000 mAh Lithium-ion Battery</li>,\n",
       " <li class=\"rgWa7D\">MediaTek Helio G80 Processor</li>,\n",
       " <li class=\"rgWa7D\">1 Year Warranty Provided by the Manufacturer from Date of Purchase</li>,\n",
       " <li class=\"rgWa7D\">4 GB RAM | 64 GB ROM | Expandable Upto 1 TB</li>,\n",
       " <li class=\"rgWa7D\">16.26 cm (6.4 inch) HD+ Display</li>,\n",
       " <li class=\"rgWa7D\">48MP + 8MP + 2MP + 2MP | 13MP Front Camera</li>,\n",
       " <li class=\"rgWa7D\">6000 mAh Lithium-ion Battery</li>,\n",
       " <li class=\"rgWa7D\">MediaTek Helio G80 Processor</li>,\n",
       " <li class=\"rgWa7D\">1 Year Warranty Provided by the Manufacturer from Date of Purchase</li>,\n",
       " <li class=\"rgWa7D\">6 GB RAM | 128 GB ROM | Expandable Upto 1 TB</li>,\n",
       " <li class=\"rgWa7D\">16.26 cm (6.4 inch) HD+ Display</li>,\n",
       " <li class=\"rgWa7D\">48MP + 8MP + 2MP + 2MP | 13MP Front Camera</li>,\n",
       " <li class=\"rgWa7D\">6000 mAh Lithium-ion Battery</li>,\n",
       " <li class=\"rgWa7D\">MediaTek Helio G80 Processor</li>,\n",
       " <li class=\"rgWa7D\">1 Year Warranty Provided by the Manufacturer from Date of Purchase</li>,\n",
       " <li class=\"rgWa7D\">4 GB RAM | 64 GB ROM | Expandable Upto 256 GB</li>,\n",
       " <li class=\"rgWa7D\">16.51 cm (6.5 inch) HD+ Display</li>,\n",
       " <li class=\"rgWa7D\">50MP + 2MP + 2MP | 8MP Front Camera</li>,\n",
       " <li class=\"rgWa7D\">6000 mAh Battery</li>,\n",
       " <li class=\"rgWa7D\">MediaTek Helio G85 Processor</li>,\n",
       " <li class=\"rgWa7D\">1 Year Warranty for Mobile and 6 Months for Accessories</li>,\n",
       " <li class=\"rgWa7D\">4 GB RAM | 64 GB ROM | Expandable Upto 256 GB</li>,\n",
       " <li class=\"rgWa7D\">16.51 cm (6.5 inch) HD+ Display</li>,\n",
       " <li class=\"rgWa7D\">8MP Rear Camera | 5MP Front Camera</li>,\n",
       " <li class=\"rgWa7D\">5000 mAh Battery</li>,\n",
       " <li class=\"rgWa7D\">Octa-core Processor</li>,\n",
       " <li class=\"rgWa7D\">1 Year Warranty for Mobile and 6 Months for Accessories</li>,\n",
       " <li class=\"rgWa7D\">2 GB RAM | 32 GB ROM | Expandable Upto 256 GB</li>,\n",
       " <li class=\"rgWa7D\">16.51 cm (6.5 inch) HD+ Display</li>,\n",
       " <li class=\"rgWa7D\">8MP Rear Camera | 5MP Front Camera</li>,\n",
       " <li class=\"rgWa7D\">5000 mAh Battery</li>,\n",
       " <li class=\"rgWa7D\">Octa-core Processor</li>,\n",
       " <li class=\"rgWa7D\">1 Year Warranty for Mobile and 6 Months for Accessories</li>,\n",
       " <li class=\"rgWa7D\">2 GB RAM | 32 GB ROM | Expandable Upto 256 GB</li>,\n",
       " <li class=\"rgWa7D\">16.51 cm (6.5 inch) HD+ Display</li>,\n",
       " <li class=\"rgWa7D\">8MP Rear Camera | 5MP Front Camera</li>,\n",
       " <li class=\"rgWa7D\">5000 mAh Battery</li>,\n",
       " <li class=\"rgWa7D\">Octa-core Processor</li>,\n",
       " <li class=\"rgWa7D\">1 Year Warranty for Mobile and 6 Months for Accessories</li>,\n",
       " <li class=\"rgWa7D\">4 GB RAM | 64 GB ROM | Expandable Upto 256 GB</li>,\n",
       " <li class=\"rgWa7D\">16.51 cm (6.5 inch) HD+ Display</li>,\n",
       " <li class=\"rgWa7D\">50MP + 2MP + 2MP | 8MP Front Camera</li>,\n",
       " <li class=\"rgWa7D\">6000 mAh Battery</li>,\n",
       " <li class=\"rgWa7D\">MediaTek Helio G85 Processor</li>,\n",
       " <li class=\"rgWa7D\">1 Year Warranty for Mobile and 6 Months for Accessories</li>,\n",
       " <li class=\"rgWa7D\">4 GB RAM | 64 GB ROM | Expandable Upto 256 GB</li>,\n",
       " <li class=\"rgWa7D\">16.51 cm (6.5 inch) HD+ Display</li>,\n",
       " <li class=\"rgWa7D\">8MP Rear Camera | 5MP Front Camera</li>,\n",
       " <li class=\"rgWa7D\">5000 mAh Battery</li>,\n",
       " <li class=\"rgWa7D\">Octa-core Processor</li>,\n",
       " <li class=\"rgWa7D\">1 Year Warranty for Mobile and 6 Months for Accessories</li>,\n",
       " <li class=\"rgWa7D\">4 GB RAM | 64 GB ROM | Expandable Upto 512 GB</li>,\n",
       " <li class=\"rgWa7D\">16.59 cm (6.53 inch) HD+ Display</li>,\n",
       " <li class=\"rgWa7D\">13MP Rear Camera | 5MP Front Camera</li>,\n",
       " <li class=\"rgWa7D\">5000 mAh Li-Polymer Battery</li>,\n",
       " <li class=\"rgWa7D\">MediaTek Helio G25 Processor</li>,\n",
       " <li class=\"rgWa7D\">Brand Warranty of 1 Year Available for Mobile and 6 Months for Accessories</li>,\n",
       " <li class=\"rgWa7D\">4 GB RAM | 64 GB ROM | Expandable Upto 1 TB</li>,\n",
       " <li class=\"rgWa7D\">16.51 cm (6.5 inch) Full HD+ Display</li>,\n",
       " <li class=\"rgWa7D\">48MP + 2MP + 2MP | 8MP Front Camera</li>,\n",
       " <li class=\"rgWa7D\">5000 mAh Lithium-ion Polymer Battery</li>,\n",
       " <li class=\"rgWa7D\">MediaTek Dimensity 700 Processor</li>,\n",
       " <li class=\"rgWa7D\">Multiple Hands-free Voice Assistant</li>,\n",
       " <li class=\"rgWa7D\">One Year Warranty for Handset, 6 Months for Accessories</li>,\n",
       " <li class=\"rgWa7D\">4 GB RAM | 128 GB ROM | Expandable Upto 1 TB</li>,\n",
       " <li class=\"rgWa7D\">16.36 cm (6.44 inch) Full HD+ AMOLED Display</li>,\n",
       " <li class=\"rgWa7D\">50MP + 2MP + 2MP | 16MP Front Camera</li>,\n",
       " <li class=\"rgWa7D\">5000 mAh Lithium Battery</li>,\n",
       " <li class=\"rgWa7D\">Qualcomm Snapdragon 680 Processor</li>,\n",
       " <li class=\"rgWa7D\">1 Year Handset and 6 Months Accessories</li>,\n",
       " <li class=\"rgWa7D\">4 GB RAM | 128 GB ROM | Expandable Upto 1 TB</li>,\n",
       " <li class=\"rgWa7D\">16.36 cm (6.44 inch) Full HD+ AMOLED Display</li>,\n",
       " <li class=\"rgWa7D\">50MP + 2MP + 2MP | 16MP Front Camera</li>,\n",
       " <li class=\"rgWa7D\">5000 mAh Lithium Battery</li>,\n",
       " <li class=\"rgWa7D\">Qualcomm Snapdragon 680 Processor</li>,\n",
       " <li class=\"rgWa7D\">1 Year Handset and 6 Months Accessories</li>,\n",
       " <li class=\"rgWa7D\">4 GB RAM | 128 GB ROM | Expandable Upto 1 TB</li>,\n",
       " <li class=\"rgWa7D\">16.36 cm (6.44 inch) Full HD+ AMOLED Display</li>,\n",
       " <li class=\"rgWa7D\">50MP + 2MP + 2MP | 16MP Front Camera</li>,\n",
       " <li class=\"rgWa7D\">5000 mAh Lithium Battery</li>,\n",
       " <li class=\"rgWa7D\">Qualcomm Snapdragon 680 Processor</li>,\n",
       " <li class=\"rgWa7D\">1 Year Handset and 6 Months Accessories</li>,\n",
       " <li class=\"rgWa7D\">4 GB RAM | 64 GB ROM</li>,\n",
       " <li class=\"rgWa7D\">16.71 cm (6.58 inch) Full HD+ Display</li>,\n",
       " <li class=\"rgWa7D\">50MP + 2MP | 8MP Front Camera</li>,\n",
       " <li class=\"rgWa7D\">5000 mAh Battery</li>,\n",
       " <li class=\"rgWa7D\">Qualcomm Snapdragon 680 Processor</li>,\n",
       " <li class=\"rgWa7D\">1 Year on Handset and 6 Months on Accessories</li>,\n",
       " <li class=\"rgWa7D\">4 GB RAM | 64 GB ROM</li>,\n",
       " <li class=\"rgWa7D\">16.71 cm (6.58 inch) Full HD+ Display</li>,\n",
       " <li class=\"rgWa7D\">50MP + 2MP | 8MP Front Camera</li>,\n",
       " <li class=\"rgWa7D\">5000 mAh Battery</li>,\n",
       " <li class=\"rgWa7D\">Qualcomm Snapdragon 680 Processor</li>,\n",
       " <li class=\"rgWa7D\">1 Year on Handset and 6 Months on Accessories</li>,\n",
       " <li class=\"rgWa7D\">4 GB RAM | 128 GB ROM | Expandable Upto 256 GB</li>,\n",
       " <li class=\"rgWa7D\">16.51 cm (6.5 inch) HD+ Display</li>,\n",
       " <li class=\"rgWa7D\">50MP + 2MP + 2MP | 8MP Front Camera</li>,\n",
       " <li class=\"rgWa7D\">6000 mAh Battery</li>,\n",
       " <li class=\"rgWa7D\">MediaTek Helio G85 Processor</li>,\n",
       " <li class=\"rgWa7D\">1 Year Warranty for Mobile and 6 Months for Accessories</li>,\n",
       " <li class=\"rgWa7D\">4 GB RAM | 64 GB ROM | Expandable Upto 256 GB</li>,\n",
       " <li class=\"rgWa7D\">16.76 cm (6.6 inch) Full HD+ Display</li>,\n",
       " <li class=\"rgWa7D\">50MP + 2MP + 2MP | 16MP Front Camera</li>,\n",
       " <li class=\"rgWa7D\">5000 mAh Battery</li>,\n",
       " <li class=\"rgWa7D\">MediaTek Helio G96 Processor</li>,\n",
       " <li class=\"rgWa7D\">1 Year Warranty for Mobile and 6 Months for Accessories</li>,\n",
       " <li class=\"rgWa7D\">2 GB RAM | 32 GB ROM | Expandable Upto 256 GB</li>,\n",
       " <li class=\"rgWa7D\">16.56 cm (6.52 inch) HD+ Display</li>,\n",
       " <li class=\"rgWa7D\">8MP + Depth Sensor | 8MP Front Camera</li>,\n",
       " <li class=\"rgWa7D\">5000 mAh Li-ion Polymer Battery</li>,\n",
       " <li class=\"rgWa7D\">MediaTek Helio A20 Processor</li>,\n",
       " <li class=\"rgWa7D\">1 Year on Handset and 6 Months on Accessories</li>,\n",
       " <li class=\"rgWa7D\">2 GB RAM | 32 GB ROM | Expandable Upto 256 GB</li>,\n",
       " <li class=\"rgWa7D\">16.56 cm (6.52 inch) HD+ Display</li>,\n",
       " <li class=\"rgWa7D\">8MP + Depth Sensor | 8MP Front Camera</li>,\n",
       " <li class=\"rgWa7D\">5000 mAh Li-ion Polymer Battery</li>,\n",
       " <li class=\"rgWa7D\">MediaTek Helio A20 Processor</li>,\n",
       " <li class=\"rgWa7D\">1 Year on Handset and 6 Months on Accessories</li>,\n",
       " <li class=\"rgWa7D\">6 GB RAM | 128 GB ROM | Expandable Upto 1 TB</li>,\n",
       " <li class=\"rgWa7D\">16.71 cm (6.58 inch) Full HD+ Display</li>,\n",
       " <li class=\"rgWa7D\">50MP + 2MP + 2MP | 16MP Front Camera</li>,\n",
       " <li class=\"rgWa7D\">5000 mAh Lithium Battery</li>,\n",
       " <li class=\"rgWa7D\">Qualcomm Snapdragon 695 Processor</li>,\n",
       " <li class=\"rgWa7D\">1 Year Handset and 6 Months Accessories</li>,\n",
       " <li class=\"rgWa7D\">4 GB RAM | 64 GB ROM | Expandable Upto 1 TB</li>,\n",
       " <li class=\"rgWa7D\">16.51 cm (6.5 inch) Full HD+ Display</li>,\n",
       " <li class=\"rgWa7D\">48MP + 2MP + 2MP | 16MP Front Camera</li>,\n",
       " <li class=\"rgWa7D\">5000 mAh Battery</li>,\n",
       " <li class=\"rgWa7D\">MediaTek Dimensity 700 (MT6833) Processor</li>,\n",
       " <li class=\"rgWa7D\">1 Year Warranty for Mobile and 6 Months for Accessories</li>,\n",
       " <li class=\"rgWa7D\">4 GB RAM | 128 GB ROM | Expandable Upto 1 TB</li>,\n",
       " <li class=\"rgWa7D\">16.71 cm (6.58 inch) Full HD+ Display</li>,\n",
       " <li class=\"rgWa7D\">50MP + 2MP + 2MP | 16MP Front Camera</li>,\n",
       " <li class=\"rgWa7D\">5000 mAh Lithium Battery</li>,\n",
       " <li class=\"rgWa7D\">Turbo Processor Snapdragon 695 Processor</li>,\n",
       " <li class=\"rgWa7D\">1 Year Handset and 6 Months Accessories</li>,\n",
       " <li class=\"rgWa7D\">4 GB RAM | 64 GB ROM | Expandable Upto 1 TB</li>,\n",
       " <li class=\"rgWa7D\">16.76 cm (6.6 inch) Full HD+ Display</li>,\n",
       " <li class=\"rgWa7D\">50MP + 5MP + 2MP | 8MP Front Camera</li>,\n",
       " <li class=\"rgWa7D\">6000 mAh Lithium Ion Battery</li>,\n",
       " <li class=\"rgWa7D\">Exynos 850 Processor</li>,\n",
       " <li class=\"rgWa7D\">1 Year Warranty Provided By the Manufacturer from Date of Purchase</li>]"
      ]
     },
     "execution_count": 6,
     "metadata": {},
     "output_type": "execute_result"
    }
   ],
   "source": [
    "phone_specs=soup.find_all(\"li\",class_=\"rgWa7D\")\n",
    "phone_specs"
   ]
  },
  {
   "cell_type": "code",
   "execution_count": 7,
   "metadata": {},
   "outputs": [
    {
     "data": {
      "text/plain": [
       "[<div class=\"_3I9_wc _27UcVY\">₹<!-- -->14,999</div>,\n",
       " <div class=\"_3I9_wc _27UcVY\">₹<!-- -->14,999</div>,\n",
       " <div class=\"_3I9_wc _27UcVY\">₹<!-- -->16,999</div>,\n",
       " <div class=\"_3I9_wc _27UcVY\">₹<!-- -->12,999</div>,\n",
       " <div class=\"_3I9_wc _27UcVY\">₹<!-- -->9,999</div>,\n",
       " <div class=\"_3I9_wc _27UcVY\">₹<!-- -->7,999</div>,\n",
       " <div class=\"_3I9_wc _27UcVY\">₹<!-- -->7,999</div>,\n",
       " <div class=\"_3I9_wc _27UcVY\">₹<!-- -->12,999</div>,\n",
       " <div class=\"_3I9_wc _27UcVY\">₹<!-- -->9,999</div>,\n",
       " <div class=\"_3I9_wc _27UcVY\">₹<!-- -->9,999</div>,\n",
       " <div class=\"_3I9_wc _27UcVY\">₹<!-- -->15,999</div>,\n",
       " <div class=\"_3I9_wc _27UcVY\">₹<!-- -->19,990</div>,\n",
       " <div class=\"_3I9_wc _27UcVY\">₹<!-- -->19,990</div>,\n",
       " <div class=\"_3I9_wc _27UcVY\">₹<!-- -->19,990</div>,\n",
       " <div class=\"_3I9_wc _27UcVY\">₹<!-- -->16,990</div>,\n",
       " <div class=\"_3I9_wc _27UcVY\">₹<!-- -->16,990</div>,\n",
       " <div class=\"_3I9_wc _27UcVY\">₹<!-- -->13,999</div>,\n",
       " <div class=\"_3I9_wc _27UcVY\">₹<!-- -->15,999</div>,\n",
       " <div class=\"_3I9_wc _27UcVY\">₹<!-- -->7,999</div>,\n",
       " <div class=\"_3I9_wc _27UcVY\">₹<!-- -->20,990</div>,\n",
       " <div class=\"_3I9_wc _27UcVY\">₹<!-- -->15,999</div>,\n",
       " <div class=\"_3I9_wc _27UcVY\">₹<!-- -->19,990</div>,\n",
       " <div class=\"_3I9_wc _27UcVY\">₹<!-- -->14,999</div>]"
      ]
     },
     "execution_count": 7,
     "metadata": {},
     "output_type": "execute_result"
    }
   ],
   "source": [
    "phone_original_price=soup.find_all(\"div\",class_=\"_3I9_wc\")\n",
    "phone_original_price"
   ]
  },
  {
   "cell_type": "code",
   "execution_count": 8,
   "metadata": {},
   "outputs": [
    {
     "name": "stdout",
     "output_type": "stream",
     "text": [
      "[<div class=\"_30jeq3 _1_WHN1\">₹10,499</div>, <div class=\"_30jeq3 _1_WHN1\">₹10,499</div>, <div class=\"_30jeq3 _1_WHN1\">₹12,499</div>, <div class=\"_30jeq3 _1_WHN1\">₹9,999</div>, <div class=\"_30jeq3 _1_WHN1\">₹8,999</div>, <div class=\"_30jeq3 _1_WHN1\">₹7,499</div>, <div class=\"_30jeq3 _1_WHN1\">₹7,499</div>, <div class=\"_30jeq3 _1_WHN1\">₹9,999</div>, <div class=\"_30jeq3 _1_WHN1\">₹8,999</div>, <div class=\"_30jeq3 _1_WHN1\">₹9,049</div>, <div class=\"_30jeq3 _1_WHN1\">₹11,499</div>, <div class=\"_30jeq3 _1_WHN1\">₹14,499</div>, <div class=\"_30jeq3 _1_WHN1\">₹14,499</div>, <div class=\"_30jeq3 _1_WHN1\">₹14,499</div>, <div class=\"_30jeq3 _1_WHN1\">₹11,999</div>, <div class=\"_30jeq3 _1_WHN1\">₹11,999</div>, <div class=\"_30jeq3 _1_WHN1\">₹10,999</div>, <div class=\"_30jeq3 _1_WHN1\">₹13,999</div>, <div class=\"_30jeq3 _1_WHN1\">₹7,999</div>, <div class=\"_30jeq3 _1_WHN1\">₹6,599</div>, <div class=\"_30jeq3 _1_WHN1\">₹16,990</div>, <div class=\"_30jeq3 _1_WHN1\">₹14,999</div>, <div class=\"_30jeq3 _1_WHN1\">₹15,990</div>, <div class=\"_30jeq3 _1_WHN1\">₹11,999</div>, <div class=\"_30jeq3 UMT9wN\">₹11,499</div>, <div class=\"_30jeq3 UMT9wN\">₹14,999</div>, <div class=\"_30jeq3 UMT9wN\">₹7,999</div>, <div class=\"_30jeq3 UMT9wN\">₹8,999</div>, <div class=\"_30jeq3 UMT9wN\">₹9,999</div>]\n"
     ]
    }
   ],
   "source": [
    "phone_price=soup.find_all(\"div\",class_=\"_30jeq3\")\n",
    "print(phone_price)"
   ]
  },
  {
   "cell_type": "code",
   "execution_count": 9,
   "metadata": {},
   "outputs": [
    {
     "data": {
      "text/plain": [
       "[<div class=\"_2Tpdn3\" style=\"color:#000000;font-size:12px;font-weight:400\">Free delivery</div>,\n",
       " <div class=\"_2Tpdn3 _18hQoS\" style=\"color:#000000;font-size:14px;font-style:normal;font-weight:400\">Upto </div>,\n",
       " <div class=\"_2Tpdn3 _18hQoS\" style=\"color:#000000;font-size:14px;font-style:normal;font-weight:700\">₹9,900</div>,\n",
       " <div class=\"_2Tpdn3 _18hQoS\" style=\"color:#000000;font-size:14px;font-style:normal;font-weight:400\"> Off on Exchange</div>,\n",
       " <div class=\"_2Tpdn3 _18hQoS\" style=\"color:#000000;font-size:12px;font-weight:400\">No Cost EMI from ₹1,750/month</div>,\n",
       " <div class=\"_2Tpdn3\" style=\"color:#000000;font-size:12px;font-weight:400\">Free delivery</div>,\n",
       " <div class=\"_2Tpdn3 _18hQoS\" style=\"color:#000000;font-size:14px;font-style:normal;font-weight:400\">Upto </div>,\n",
       " <div class=\"_2Tpdn3 _18hQoS\" style=\"color:#000000;font-size:14px;font-style:normal;font-weight:700\">₹9,900</div>,\n",
       " <div class=\"_2Tpdn3 _18hQoS\" style=\"color:#000000;font-size:14px;font-style:normal;font-weight:400\"> Off on Exchange</div>,\n",
       " <div class=\"_2Tpdn3 _18hQoS\" style=\"color:#000000;font-size:12px;font-weight:400\">No Cost EMI from ₹1,750/month</div>,\n",
       " <div class=\"_2Tpdn3\" style=\"color:#000000;font-size:12px;font-weight:400\">Free delivery</div>,\n",
       " <div class=\"_2Tpdn3 _18hQoS\" style=\"color:#000000;font-size:14px;font-style:normal;font-weight:400\">Upto </div>,\n",
       " <div class=\"_2Tpdn3 _18hQoS\" style=\"color:#000000;font-size:14px;font-style:normal;font-weight:700\">₹11,850</div>,\n",
       " <div class=\"_2Tpdn3 _18hQoS\" style=\"color:#000000;font-size:14px;font-style:normal;font-weight:400\"> Off on Exchange</div>,\n",
       " <div class=\"_2Tpdn3 _18hQoS\" style=\"color:#000000;font-size:12px;font-weight:400\">No Cost EMI from ₹2,084/month</div>,\n",
       " <div class=\"_2Tpdn3\" style=\"color:#000000;font-size:12px;font-weight:400\">Free delivery</div>,\n",
       " <div class=\"_2Tpdn3 _18hQoS\" style=\"color:#000000;font-size:14px;font-style:normal;font-weight:400\">Upto </div>,\n",
       " <div class=\"_2Tpdn3 _18hQoS\" style=\"color:#000000;font-size:14px;font-style:normal;font-weight:700\">₹9,450</div>,\n",
       " <div class=\"_2Tpdn3 _18hQoS\" style=\"color:#000000;font-size:14px;font-style:normal;font-weight:400\"> Off on Exchange</div>,\n",
       " <div class=\"_2Tpdn3 _18hQoS\" style=\"color:#26A541;font-size:14px;font-weight:700\">Bank Offer</div>,\n",
       " <div class=\"_2Tpdn3\" style=\"color:#000000;font-size:12px;font-weight:400\">Free delivery</div>,\n",
       " <div class=\"_2Tpdn3 _18hQoS\" style=\"color:#000000;font-size:14px;font-style:normal;font-weight:400\">Upto </div>,\n",
       " <div class=\"_2Tpdn3 _18hQoS\" style=\"color:#000000;font-size:14px;font-style:normal;font-weight:700\">₹9,450</div>,\n",
       " <div class=\"_2Tpdn3 _18hQoS\" style=\"color:#000000;font-size:14px;font-style:normal;font-weight:400\"> Off on Exchange</div>,\n",
       " <div class=\"_2Tpdn3 _18hQoS\" style=\"color:#26A541;font-size:14px;font-weight:700\">Bank Offer</div>,\n",
       " <div class=\"_2Tpdn3\" style=\"color:#000000;font-size:12px;font-weight:400\">Free delivery</div>,\n",
       " <div class=\"_2Tpdn3 _18hQoS\" style=\"color:#000000;font-size:14px;font-style:normal;font-weight:400\">Upto </div>,\n",
       " <div class=\"_2Tpdn3 _18hQoS\" style=\"color:#000000;font-size:14px;font-style:normal;font-weight:700\">₹8,450</div>,\n",
       " <div class=\"_2Tpdn3 _18hQoS\" style=\"color:#000000;font-size:14px;font-style:normal;font-weight:400\"> Off on Exchange</div>,\n",
       " <div class=\"_2Tpdn3 _18hQoS\" style=\"color:#26A541;font-size:14px;font-weight:700\">Bank Offer</div>,\n",
       " <div class=\"_2Tpdn3\" style=\"color:#000000;font-size:12px;font-weight:400\">Free delivery</div>,\n",
       " <div class=\"_2Tpdn3 _18hQoS\" style=\"color:#000000;font-size:14px;font-style:normal;font-weight:400\">Upto </div>,\n",
       " <div class=\"_2Tpdn3 _18hQoS\" style=\"color:#000000;font-size:14px;font-style:normal;font-weight:700\">₹8,500</div>,\n",
       " <div class=\"_2Tpdn3 _18hQoS\" style=\"color:#000000;font-size:14px;font-style:normal;font-weight:400\"> Off on Exchange</div>,\n",
       " <div class=\"_2Tpdn3 _18hQoS\" style=\"color:#26A541;font-size:14px;font-weight:700\">Bank Offer</div>,\n",
       " <div class=\"_2Tpdn3\" style=\"color:#000000;font-size:12px;font-weight:400\">Free delivery</div>,\n",
       " <div class=\"_2Tpdn3 _18hQoS\" style=\"color:#000000;font-size:14px;font-style:normal;font-weight:400\">Upto </div>,\n",
       " <div class=\"_2Tpdn3 _18hQoS\" style=\"color:#000000;font-size:14px;font-style:normal;font-weight:700\">₹10,950</div>,\n",
       " <div class=\"_2Tpdn3 _18hQoS\" style=\"color:#000000;font-size:14px;font-style:normal;font-weight:400\"> Off on Exchange</div>,\n",
       " <div class=\"_2Tpdn3 _18hQoS\" style=\"color:#26A541;font-size:14px;font-weight:700\">Bank Offer</div>,\n",
       " <div class=\"_2Tpdn3\" style=\"color:#000000;font-size:12px;font-weight:400\">Free delivery</div>,\n",
       " <div class=\"_2Tpdn3 _18hQoS\" style=\"color:#000000;font-size:14px;font-style:normal;font-weight:400\">Upto </div>,\n",
       " <div class=\"_2Tpdn3 _18hQoS\" style=\"color:#000000;font-size:14px;font-style:normal;font-weight:700\">₹13,850</div>,\n",
       " <div class=\"_2Tpdn3 _18hQoS\" style=\"color:#000000;font-size:14px;font-style:normal;font-weight:400\"> Off on Exchange</div>,\n",
       " <div class=\"_2Tpdn3 _18hQoS\" style=\"color:#000000;font-size:12px;font-weight:400\">No Cost EMI from ₹4,833/month</div>,\n",
       " <div class=\"_2Tpdn3\" style=\"color:#000000;font-size:12px;font-weight:400\">Free delivery</div>,\n",
       " <div class=\"_2Tpdn3 _18hQoS\" style=\"color:#000000;font-size:14px;font-style:normal;font-weight:400\">Upto </div>,\n",
       " <div class=\"_2Tpdn3 _18hQoS\" style=\"color:#000000;font-size:14px;font-style:normal;font-weight:700\">₹13,850</div>,\n",
       " <div class=\"_2Tpdn3 _18hQoS\" style=\"color:#000000;font-size:14px;font-style:normal;font-weight:400\"> Off on Exchange</div>,\n",
       " <div class=\"_2Tpdn3 _18hQoS\" style=\"color:#000000;font-size:12px;font-weight:400\">No Cost EMI from ₹4,833/month</div>,\n",
       " <div class=\"_2Tpdn3\" style=\"color:#000000;font-size:12px;font-weight:400\">Free delivery</div>,\n",
       " <div class=\"_2Tpdn3 _18hQoS\" style=\"color:#000000;font-size:14px;font-style:normal;font-weight:400\">Upto </div>,\n",
       " <div class=\"_2Tpdn3 _18hQoS\" style=\"color:#000000;font-size:14px;font-style:normal;font-weight:700\">₹13,850</div>,\n",
       " <div class=\"_2Tpdn3 _18hQoS\" style=\"color:#000000;font-size:14px;font-style:normal;font-weight:400\"> Off on Exchange</div>,\n",
       " <div class=\"_2Tpdn3 _18hQoS\" style=\"color:#000000;font-size:12px;font-weight:400\">No Cost EMI from ₹4,833/month</div>,\n",
       " <div class=\"_2Tpdn3\" style=\"color:#000000;font-size:12px;font-weight:400\">Free delivery</div>,\n",
       " <div class=\"_2Tpdn3 _18hQoS\" style=\"color:#000000;font-size:14px;font-style:normal;font-weight:400\">Upto </div>,\n",
       " <div class=\"_2Tpdn3 _18hQoS\" style=\"color:#000000;font-size:14px;font-style:normal;font-weight:700\">₹11,250</div>,\n",
       " <div class=\"_2Tpdn3 _18hQoS\" style=\"color:#000000;font-size:14px;font-style:normal;font-weight:400\"> Off on Exchange</div>,\n",
       " <div class=\"_2Tpdn3 _18hQoS\" style=\"color:#26A541;font-size:14px;font-weight:700\">Bank Offer</div>,\n",
       " <div class=\"_2Tpdn3\" style=\"color:#000000;font-size:12px;font-weight:400\">Free delivery</div>,\n",
       " <div class=\"_2Tpdn3 _18hQoS\" style=\"color:#000000;font-size:14px;font-style:normal;font-weight:400\">Upto </div>,\n",
       " <div class=\"_2Tpdn3 _18hQoS\" style=\"color:#000000;font-size:14px;font-style:normal;font-weight:700\">₹11,250</div>,\n",
       " <div class=\"_2Tpdn3 _18hQoS\" style=\"color:#000000;font-size:14px;font-style:normal;font-weight:400\"> Off on Exchange</div>,\n",
       " <div class=\"_2Tpdn3 _18hQoS\" style=\"color:#26A541;font-size:14px;font-weight:700\">Bank Offer</div>,\n",
       " <div class=\"_2Tpdn3\" style=\"color:#000000;font-size:12px;font-weight:400\">Free delivery</div>,\n",
       " <div class=\"_2Tpdn3 _18hQoS\" style=\"color:#000000;font-size:14px;font-style:normal;font-weight:400\">Upto </div>,\n",
       " <div class=\"_2Tpdn3 _18hQoS\" style=\"color:#000000;font-size:14px;font-style:normal;font-weight:700\">₹10,250</div>,\n",
       " <div class=\"_2Tpdn3 _18hQoS\" style=\"color:#000000;font-size:14px;font-style:normal;font-weight:400\"> Off on Exchange</div>,\n",
       " <div class=\"_2Tpdn3 _18hQoS\" style=\"color:#26A541;font-size:14px;font-weight:700\">Bank Offer</div>,\n",
       " <div class=\"_2Tpdn3\" style=\"color:#000000;font-size:12px;font-weight:400\">Free delivery</div>,\n",
       " <div class=\"_2Tpdn3 _18hQoS\" style=\"color:#000000;font-size:14px;font-style:normal;font-weight:400\">Upto </div>,\n",
       " <div class=\"_2Tpdn3 _18hQoS\" style=\"color:#000000;font-size:14px;font-style:normal;font-weight:700\">₹13,350</div>,\n",
       " <div class=\"_2Tpdn3 _18hQoS\" style=\"color:#000000;font-size:14px;font-style:normal;font-weight:400\"> Off on Exchange</div>,\n",
       " <div class=\"_2Tpdn3 _18hQoS\" style=\"color:#26A541;font-size:14px;font-weight:700\">Bank Offer</div>,\n",
       " <div class=\"_2Tpdn3\" style=\"color:#000000;font-size:12px;font-weight:400\">Free delivery</div>,\n",
       " <div class=\"_2Tpdn3 _18hQoS\" style=\"color:#000000;font-size:14px;font-style:normal;font-weight:400\">Upto </div>,\n",
       " <div class=\"_2Tpdn3 _18hQoS\" style=\"color:#000000;font-size:14px;font-style:normal;font-weight:700\">₹7,450</div>,\n",
       " <div class=\"_2Tpdn3 _18hQoS\" style=\"color:#000000;font-size:14px;font-style:normal;font-weight:400\"> Off on Exchange</div>,\n",
       " <div class=\"_2Tpdn3 _18hQoS\" style=\"color:#26A541;font-size:14px;font-weight:700\">Bank Offer</div>,\n",
       " <div class=\"_2Tpdn3\" style=\"color:#000000;font-size:12px;font-weight:400\">Free delivery</div>,\n",
       " <div class=\"_2Tpdn3 _18hQoS\" style=\"color:#000000;font-size:14px;font-style:normal;font-weight:400\">Upto </div>,\n",
       " <div class=\"_2Tpdn3 _18hQoS\" style=\"color:#000000;font-size:14px;font-style:normal;font-weight:700\">₹6,000</div>,\n",
       " <div class=\"_2Tpdn3 _18hQoS\" style=\"color:#000000;font-size:14px;font-style:normal;font-weight:400\"> Off on Exchange</div>,\n",
       " <div class=\"_2Tpdn3 _18hQoS\" style=\"color:#26A541;font-size:14px;font-weight:700\">Bank Offer</div>,\n",
       " <div class=\"_2Tpdn3\" style=\"color:#000000;font-size:12px;font-weight:400\">Free delivery</div>,\n",
       " <div class=\"_2Tpdn3 _18hQoS\" style=\"color:#000000;font-size:14px;font-style:normal;font-weight:400\">Upto </div>,\n",
       " <div class=\"_2Tpdn3 _18hQoS\" style=\"color:#000000;font-size:14px;font-style:normal;font-weight:700\">₹16,250</div>,\n",
       " <div class=\"_2Tpdn3 _18hQoS\" style=\"color:#000000;font-size:14px;font-style:normal;font-weight:400\"> Off on Exchange</div>,\n",
       " <div class=\"_2Tpdn3 _18hQoS\" style=\"color:#000000;font-size:12px;font-weight:400\">No Cost EMI from ₹5,664/month</div>,\n",
       " <div class=\"_2Tpdn3\" style=\"color:#000000;font-size:12px;font-weight:400\">Free delivery</div>,\n",
       " <div class=\"_2Tpdn3 _18hQoS\" style=\"color:#000000;font-size:14px;font-style:normal;font-weight:400\">Upto </div>,\n",
       " <div class=\"_2Tpdn3 _18hQoS\" style=\"color:#000000;font-size:14px;font-style:normal;font-weight:700\">₹14,450</div>,\n",
       " <div class=\"_2Tpdn3 _18hQoS\" style=\"color:#000000;font-size:14px;font-style:normal;font-weight:400\"> Off on Exchange</div>,\n",
       " <div class=\"_2Tpdn3 _18hQoS\" style=\"color:#26A541;font-size:14px;font-weight:700\">Bank Offer</div>,\n",
       " <div class=\"_2Tpdn3\" style=\"color:#000000;font-size:12px;font-weight:400\">Free delivery</div>,\n",
       " <div class=\"_2Tpdn3 _18hQoS\" style=\"color:#000000;font-size:14px;font-style:normal;font-weight:400\">Upto </div>,\n",
       " <div class=\"_2Tpdn3 _18hQoS\" style=\"color:#000000;font-size:14px;font-style:normal;font-weight:700\">₹15,350</div>,\n",
       " <div class=\"_2Tpdn3 _18hQoS\" style=\"color:#000000;font-size:14px;font-style:normal;font-weight:400\"> Off on Exchange</div>,\n",
       " <div class=\"_2Tpdn3 _18hQoS\" style=\"color:#000000;font-size:12px;font-weight:400\">No Cost EMI from ₹5,330/month</div>,\n",
       " <div class=\"_2Tpdn3\" style=\"color:#000000;font-size:12px;font-weight:400\">Free delivery</div>,\n",
       " <div class=\"_2Tpdn3 _18hQoS\" style=\"color:#000000;font-size:14px;font-style:normal;font-weight:400\">Upto </div>,\n",
       " <div class=\"_2Tpdn3 _18hQoS\" style=\"color:#000000;font-size:14px;font-style:normal;font-weight:700\">₹11,250</div>,\n",
       " <div class=\"_2Tpdn3 _18hQoS\" style=\"color:#000000;font-size:14px;font-style:normal;font-weight:400\"> Off on Exchange</div>,\n",
       " <div class=\"_2Tpdn3 _18hQoS\" style=\"color:#26A541;font-size:14px;font-weight:700\">Bank Offer</div>]"
      ]
     },
     "execution_count": 9,
     "metadata": {},
     "output_type": "execute_result"
    }
   ],
   "source": [
    "drop_on_exchange=soup.find_all(\"div\",class_=\"_2Tpdn3\")\n",
    "drop_on_exchange"
   ]
  },
  {
   "cell_type": "code",
   "execution_count": 10,
   "metadata": {},
   "outputs": [
    {
     "data": {
      "text/plain": [
       "['4 GB RAM | 64 GB ROM | Expandable Upto 1 TB16.26 cm (6.4 inch) HD+ Display48MP + 8MP + 2MP + 2MP | 13MP Front Camera6000 mAh Lithium-ion BatteryMediaTek Helio G80 Processor1 Year Warranty Provided by the Manufacturer from Date of Purchase',\n",
       " '4 GB RAM | 64 GB ROM | Expandable Upto 1 TB16.26 cm (6.4 inch) HD+ Display48MP + 8MP + 2MP + 2MP | 13MP Front Camera6000 mAh Lithium-ion BatteryMediaTek Helio G80 Processor1 Year Warranty Provided by the Manufacturer from Date of Purchase',\n",
       " '6 GB RAM | 128 GB ROM | Expandable Upto 1 TB16.26 cm (6.4 inch) HD+ Display48MP + 8MP + 2MP + 2MP | 13MP Front Camera6000 mAh Lithium-ion BatteryMediaTek Helio G80 Processor1 Year Warranty Provided by the Manufacturer from Date of Purchase',\n",
       " '4 GB RAM | 64 GB ROM | Expandable Upto 256 GB16.51 cm (6.5 inch) HD+ Display50MP + 2MP + 2MP | 8MP Front Camera6000 mAh BatteryMediaTek Helio G85 Processor1 Year Warranty for Mobile and 6 Months for Accessories',\n",
       " '4 GB RAM | 64 GB ROM | Expandable Upto 256 GB16.51 cm (6.5 inch) HD+ Display8MP Rear Camera | 5MP Front Camera5000 mAh BatteryOcta-core Processor1 Year Warranty for Mobile and 6 Months for Accessories',\n",
       " '2 GB RAM | 32 GB ROM | Expandable Upto 256 GB16.51 cm (6.5 inch) HD+ Display8MP Rear Camera | 5MP Front Camera5000 mAh BatteryOcta-core Processor1 Year Warranty for Mobile and 6 Months for Accessories',\n",
       " '2 GB RAM | 32 GB ROM | Expandable Upto 256 GB16.51 cm (6.5 inch) HD+ Display8MP Rear Camera | 5MP Front Camera5000 mAh BatteryOcta-core Processor1 Year Warranty for Mobile and 6 Months for Accessories',\n",
       " '4 GB RAM | 64 GB ROM | Expandable Upto 256 GB16.51 cm (6.5 inch) HD+ Display50MP + 2MP + 2MP | 8MP Front Camera6000 mAh BatteryMediaTek Helio G85 Processor1 Year Warranty for Mobile and 6 Months for Accessories',\n",
       " '4 GB RAM | 64 GB ROM | Expandable Upto 256 GB16.51 cm (6.5 inch) HD+ Display8MP Rear Camera | 5MP Front Camera5000 mAh BatteryOcta-core Processor1 Year Warranty for Mobile and 6 Months for Accessories',\n",
       " '4 GB RAM | 64 GB ROM | Expandable Upto 512 GB16.59 cm (6.53 inch) HD+ Display13MP Rear Camera | 5MP Front Camera5000 mAh Li-Polymer BatteryMediaTek Helio G25 ProcessorBrand Warranty of 1 Year Available for Mobile and 6 Months for Accessories',\n",
       " '4 GB RAM | 64 GB ROM | Expandable Upto 1 TB16.51 cm (6.5 inch) Full HD+ Display48MP + 2MP + 2MP | 8MP Front Camera5000 mAh Lithium-ion Polymer BatteryMediaTek Dimensity 700 ProcessorMultiple Hands-free Voice Assistant',\n",
       " 'One Year Warranty for Handset, 6 Months for Accessories4 GB RAM | 128 GB ROM | Expandable Upto 1 TB16.36 cm (6.44 inch) Full HD+ AMOLED Display50MP + 2MP + 2MP | 16MP Front Camera5000 mAh Lithium BatteryQualcomm Snapdragon 680 Processor',\n",
       " '1 Year Handset and 6 Months Accessories4 GB RAM | 128 GB ROM | Expandable Upto 1 TB16.36 cm (6.44 inch) Full HD+ AMOLED Display50MP + 2MP + 2MP | 16MP Front Camera5000 mAh Lithium BatteryQualcomm Snapdragon 680 Processor',\n",
       " '1 Year Handset and 6 Months Accessories4 GB RAM | 128 GB ROM | Expandable Upto 1 TB16.36 cm (6.44 inch) Full HD+ AMOLED Display50MP + 2MP + 2MP | 16MP Front Camera5000 mAh Lithium BatteryQualcomm Snapdragon 680 Processor',\n",
       " '1 Year Handset and 6 Months Accessories4 GB RAM | 64 GB ROM16.71 cm (6.58 inch) Full HD+ Display50MP + 2MP | 8MP Front Camera5000 mAh BatteryQualcomm Snapdragon 680 Processor',\n",
       " '1 Year on Handset and 6 Months on Accessories4 GB RAM | 64 GB ROM16.71 cm (6.58 inch) Full HD+ Display50MP + 2MP | 8MP Front Camera5000 mAh BatteryQualcomm Snapdragon 680 Processor',\n",
       " '1 Year on Handset and 6 Months on Accessories4 GB RAM | 128 GB ROM | Expandable Upto 256 GB16.51 cm (6.5 inch) HD+ Display50MP + 2MP + 2MP | 8MP Front Camera6000 mAh BatteryMediaTek Helio G85 Processor',\n",
       " '1 Year Warranty for Mobile and 6 Months for Accessories4 GB RAM | 64 GB ROM | Expandable Upto 256 GB16.76 cm (6.6 inch) Full HD+ Display50MP + 2MP + 2MP | 16MP Front Camera5000 mAh BatteryMediaTek Helio G96 Processor',\n",
       " '1 Year Warranty for Mobile and 6 Months for Accessories2 GB RAM | 32 GB ROM | Expandable Upto 256 GB16.56 cm (6.52 inch) HD+ Display8MP + Depth Sensor | 8MP Front Camera5000 mAh Li-ion Polymer BatteryMediaTek Helio A20 Processor',\n",
       " '1 Year on Handset and 6 Months on Accessories2 GB RAM | 32 GB ROM | Expandable Upto 256 GB16.56 cm (6.52 inch) HD+ Display8MP + Depth Sensor | 8MP Front Camera5000 mAh Li-ion Polymer BatteryMediaTek Helio A20 Processor',\n",
       " '1 Year on Handset and 6 Months on Accessories6 GB RAM | 128 GB ROM | Expandable Upto 1 TB16.71 cm (6.58 inch) Full HD+ Display50MP + 2MP + 2MP | 16MP Front Camera5000 mAh Lithium BatteryQualcomm Snapdragon 695 Processor',\n",
       " '1 Year Handset and 6 Months Accessories4 GB RAM | 64 GB ROM | Expandable Upto 1 TB16.51 cm (6.5 inch) Full HD+ Display48MP + 2MP + 2MP | 16MP Front Camera5000 mAh BatteryMediaTek Dimensity 700 (MT6833) Processor',\n",
       " '1 Year Warranty for Mobile and 6 Months for Accessories4 GB RAM | 128 GB ROM | Expandable Upto 1 TB16.71 cm (6.58 inch) Full HD+ Display50MP + 2MP + 2MP | 16MP Front Camera5000 mAh Lithium BatteryTurbo Processor Snapdragon 695 Processor',\n",
       " '1 Year Handset and 6 Months Accessories4 GB RAM | 64 GB ROM | Expandable Upto 1 TB16.76 cm (6.6 inch) Full HD+ Display50MP + 5MP + 2MP | 8MP Front Camera6000 mAh Lithium Ion BatteryExynos 850 Processor']"
      ]
     },
     "execution_count": 10,
     "metadata": {},
     "output_type": "execute_result"
    }
   ],
   "source": [
    "# drop=[]\n",
    "# for i in range(3,len(drop_on_exchange),4):\n",
    "#     if(drop_on_exchange[i].get_text()[0]==\"₹\"):\n",
    "#         drop.append(drop_on_exchange[i].get_text())\n",
    "\n",
    "# drop #not considered\n",
    "\n",
    "phone=[]\n",
    "price=[]\n",
    "orig_price=[]\n",
    "specs=[]\n",
    "l=\"\"\n",
    "for i in range(0,len(phone_specs)-6,6):\n",
    "    for j in phone_specs[i:i+6]:\n",
    "        l+=str(j.get_text())\n",
    "    specs.append(l)\n",
    "    l=\"\"\n",
    "specs\n",
    "\n"
   ]
  },
  {
   "cell_type": "code",
   "execution_count": 11,
   "metadata": {},
   "outputs": [
    {
     "data": {
      "text/plain": [
       "['₹10,499',\n",
       " '₹10,499',\n",
       " '₹12,499',\n",
       " '₹9,999',\n",
       " '₹8,999',\n",
       " '₹7,499',\n",
       " '₹7,499',\n",
       " '₹9,999',\n",
       " '₹8,999',\n",
       " '₹9,049',\n",
       " '₹11,499',\n",
       " '₹14,499',\n",
       " '₹14,499',\n",
       " '₹14,499',\n",
       " '₹11,999',\n",
       " '₹11,999',\n",
       " '₹10,999',\n",
       " '₹13,999',\n",
       " '₹7,999',\n",
       " '₹6,599',\n",
       " '₹16,990',\n",
       " '₹14,999',\n",
       " '₹15,990',\n",
       " '₹11,999',\n",
       " '₹11,499',\n",
       " '₹14,999',\n",
       " '₹7,999',\n",
       " '₹8,999',\n",
       " '₹9,999']"
      ]
     },
     "execution_count": 11,
     "metadata": {},
     "output_type": "execute_result"
    }
   ],
   "source": [
    "for i in phone_price:\n",
    "    price.append(i.get_text())\n",
    "price"
   ]
  },
  {
   "cell_type": "code",
   "execution_count": 12,
   "metadata": {},
   "outputs": [
    {
     "data": {
      "text/plain": [
       "['SAMSUNG Galaxy F22 (Denim Black, 64 GB)',\n",
       " 'SAMSUNG Galaxy F22 (Denim Blue, 64 GB)',\n",
       " 'SAMSUNG Galaxy F22 (Denim Blue, 128 GB)',\n",
       " 'realme Narzo 50A (Oxygen Blue, 64 GB)',\n",
       " 'realme C11 2021 (Cool Grey, 64 GB)',\n",
       " 'realme C11 2021 (Cool Blue, 32 GB)',\n",
       " 'realme C11 2021 (Cool Grey, 32 GB)',\n",
       " 'realme Narzo 50A (Oxygen Green, 64 GB)',\n",
       " 'realme C11 2021 (Cool Blue, 64 GB)',\n",
       " 'REDMI 9i Sport (Coral Green, 64 GB)',\n",
       " 'POCO M3 Pro 5G (Yellow, 64 GB)',\n",
       " 'vivo T1 44W (Ice Dawn, 128 GB)',\n",
       " 'vivo T1 44W (Midnight Galaxy, 128 GB)',\n",
       " 'vivo T1 44W (Starry Sky, 128 GB)',\n",
       " 'vivo T1X (Gravity Black, 64 GB)',\n",
       " 'vivo T1X (Space Blue, 64 GB)',\n",
       " 'realme Narzo 50A (Oxygen Blue, 128 GB)',\n",
       " 'realme 8i (Space Purple, 64 GB)',\n",
       " 'Infinix Smart 5A (Ocean Wave, 32 GB)',\n",
       " 'Infinix Smart 5A (Midnight Black, 32 GB)',\n",
       " 'vivo T1 5G (Rainbow Fantasy, 128 GB)',\n",
       " 'realme Narzo 30 5G (Racing Blue, 64 GB)',\n",
       " 'vivo T1 5G (Rainbow Fantasy, 128 GB)',\n",
       " 'SAMSUNG Galaxy F13 (Waterfall Blue, 64 GB)']"
      ]
     },
     "execution_count": 12,
     "metadata": {},
     "output_type": "execute_result"
    }
   ],
   "source": [
    "for i in phone_name:\n",
    "    phone.append(i.get_text())\n",
    "phone"
   ]
  },
  {
   "cell_type": "code",
   "execution_count": 13,
   "metadata": {},
   "outputs": [
    {
     "data": {
      "text/plain": [
       "['₹14,999',\n",
       " '₹14,999',\n",
       " '₹16,999',\n",
       " '₹12,999',\n",
       " '₹9,999',\n",
       " '₹7,999',\n",
       " '₹7,999',\n",
       " '₹12,999',\n",
       " '₹9,999',\n",
       " '₹9,999',\n",
       " '₹15,999',\n",
       " '₹19,990',\n",
       " '₹19,990',\n",
       " '₹19,990',\n",
       " '₹16,990',\n",
       " '₹16,990',\n",
       " '₹13,999',\n",
       " '₹15,999',\n",
       " '₹7,999',\n",
       " '₹20,990',\n",
       " '₹15,999',\n",
       " '₹19,990',\n",
       " '₹14,999']"
      ]
     },
     "execution_count": 13,
     "metadata": {},
     "output_type": "execute_result"
    }
   ],
   "source": [
    "for i in phone_original_price:\n",
    "    orig_price.append(i.get_text())\n",
    "orig_price"
   ]
  },
  {
   "cell_type": "code",
   "execution_count": 14,
   "metadata": {},
   "outputs": [],
   "source": [
    "m=min(len(phone),len(specs),len(orig_price),len(price))"
   ]
  },
  {
   "cell_type": "code",
   "execution_count": 18,
   "metadata": {},
   "outputs": [],
   "source": [
    "import pandas as p\n",
    "df=p.DataFrame()\n",
    "df[\"Phone Name\"]=phone[:m]\n",
    "df[\"Specifications\"]=specs[:m]\n",
    "df[\"Original Price\"]=orig_price[:m]\n",
    "df[\"Price\"]=price[:m]\n",
    "df.to_excel(\"WebData.xlsx\")\n"
   ]
  }
 ],
 "metadata": {
  "kernelspec": {
   "display_name": "Python 3.10.6 64-bit",
   "language": "python",
   "name": "python3"
  },
  "language_info": {
   "codemirror_mode": {
    "name": "ipython",
    "version": 3
   },
   "file_extension": ".py",
   "mimetype": "text/x-python",
   "name": "python",
   "nbconvert_exporter": "python",
   "pygments_lexer": "ipython3",
   "version": "3.10.6"
  },
  "orig_nbformat": 4,
  "vscode": {
   "interpreter": {
    "hash": "a10a362f431dcb1420e8520053aa02061152a26d419219404669b3c3a05c83d7"
   }
  }
 },
 "nbformat": 4,
 "nbformat_minor": 2
}
